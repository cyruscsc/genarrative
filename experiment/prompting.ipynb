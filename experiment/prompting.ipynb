{
 "cells": [
  {
   "cell_type": "markdown",
   "metadata": {},
   "source": [
    "# Prompting Experiment"
   ]
  },
  {
   "cell_type": "markdown",
   "metadata": {},
   "source": [
    "## Setup"
   ]
  },
  {
   "cell_type": "code",
   "execution_count": 2,
   "metadata": {},
   "outputs": [
    {
     "name": "stdout",
     "output_type": "stream",
     "text": [
      "Channels:\n",
      " - defaults\n",
      "Platform: osx-arm64\n",
      "Collecting package metadata (repodata.json): done\n",
      "Solving environment: done\n",
      "\n",
      "# All requested packages already installed.\n",
      "\n",
      "\n",
      "Note: you may need to restart the kernel to use updated packages.\n"
     ]
    }
   ],
   "source": [
    "%conda install openai"
   ]
  },
  {
   "cell_type": "code",
   "execution_count": 8,
   "metadata": {},
   "outputs": [],
   "source": [
    "import base64\n",
    "import json\n",
    "import os\n",
    "import numpy as np\n",
    "from dotenv import load_dotenv\n",
    "from openai import OpenAI\n",
    "from PIL import Image"
   ]
  },
  {
   "cell_type": "code",
   "execution_count": 36,
   "metadata": {},
   "outputs": [],
   "source": [
    "# Load environment variables\n",
    "load_dotenv()\n",
    "\n",
    "# Create OpenAI client\n",
    "client = OpenAI()\n",
    "\n",
    "# Helper function to get completion\n",
    "def get_completion(messages, model=\"gpt-4o\", temperature=0.7, max_tokens=100):\n",
    "    response = client.chat.completions.create(\n",
    "        model=model,\n",
    "        messages=messages,\n",
    "        temperature=temperature,\n",
    "        max_tokens=max_tokens\n",
    "    )\n",
    "    return response.choices[0].message.content"
   ]
  },
  {
   "cell_type": "markdown",
   "metadata": {},
   "source": [
    "## Examples"
   ]
  },
  {
   "cell_type": "code",
   "execution_count": 10,
   "metadata": {},
   "outputs": [
    {
     "name": "stdout",
     "output_type": "stream",
     "text": [
      "Image count: 20\n",
      "Example count: 20\n",
      "Average word count: 21.25\n"
     ]
    }
   ],
   "source": [
    "# Get image count\n",
    "image_count = len(os.listdir(\"images\"))\n",
    "\n",
    "# Load examples\n",
    "with open('examples.json') as f:\n",
    "    examples = json.load(f)\n",
    "\n",
    "# Get example count\n",
    "example_count = len(examples)\n",
    "\n",
    "# Get average word count\n",
    "word_counts = [len(example[\"desc\"].split()) for example in examples.values()]\n",
    "avg_word_count = np.mean(word_counts)\n",
    "\n",
    "# Print stats\n",
    "print(f\"Image count: {image_count}\")\n",
    "print(f\"Example count: {example_count}\")\n",
    "print(f\"Average word count: {avg_word_count}\")"
   ]
  },
  {
   "cell_type": "markdown",
   "metadata": {},
   "source": [
    "## Prompting"
   ]
  },
  {
   "cell_type": "markdown",
   "metadata": {},
   "source": [
    "### Prepare images"
   ]
  },
  {
   "cell_type": "code",
   "execution_count": 11,
   "metadata": {},
   "outputs": [],
   "source": [
    "def resize_image(image_path, size=(512, 512)):\n",
    "    with Image.open(image_path) as f:\n",
    "        f.thumbnail(size, Image.Resampling.LANCZOS)\n",
    "        f.save(image_path)\n",
    "\n",
    "def get_image_format(image_path):\n",
    "    with Image.open(image_path) as f:\n",
    "        return f.format.lower()\n",
    "\n",
    "def to_base64(image_path):\n",
    "    with open(image_path, \"rb\") as f:\n",
    "        return base64.b64encode(f.read()).decode(\"utf-8\")\n",
    "\n",
    "def preprocess_image(image_path):\n",
    "    resize_image(image_path)\n",
    "    return {\"format\": get_image_format(image_path), \"b64\": to_base64(image_path)}"
   ]
  },
  {
   "cell_type": "code",
   "execution_count": 12,
   "metadata": {},
   "outputs": [],
   "source": [
    "processed_images = []\n",
    "\n",
    "for example in examples.values():\n",
    "    processed_image = preprocess_image(example[\"path\"])\n",
    "    processed_image[\"desc\"] = example[\"desc\"]\n",
    "    processed_images.append(processed_image)"
   ]
  },
  {
   "cell_type": "markdown",
   "metadata": {},
   "source": [
    "### Prepare messages"
   ]
  },
  {
   "cell_type": "code",
   "execution_count": 25,
   "metadata": {},
   "outputs": [],
   "source": [
    "def create_prompt(image_format: str, image_b64: str, max_words: int=30):\n",
    "    return {\n",
    "        \"role\": \"user\",\n",
    "        \"content\": [\n",
    "            {\n",
    "                \"type\": \"text\",\n",
    "                \"text\": f\"Write a description for this image. The desciption should be within {max_words} words.\"\n",
    "            }, {\n",
    "                \"type\": \"image_url\",\n",
    "                \"image_url\": {\n",
    "                    \"url\": f\"data:image/{image_format};base64,{image_b64}\"\n",
    "                }\n",
    "            }\n",
    "            ]\n",
    "        }\n",
    "\n",
    "def create_messages(references: list, image_item: dict, max_words: int=30):\n",
    "    messages = []\n",
    "    messages.append({\n",
    "        \"role\": \"system\",\n",
    "        \"content\": \"You are an assistant writing image descriptions. Your task is to write descriptions for provided images in a consistent style. You response should be concise and informative. Your tone should be neutral and professional.\"\n",
    "    })\n",
    "    for ref in references:\n",
    "        messages.append(create_prompt(ref[\"format\"], ref[\"b64\"], max_words=max_words))\n",
    "        messages.append({\"role\": \"assistant\", \"content\": ref[\"desc\"]})\n",
    "    messages.append(create_prompt(image_item[\"format\"], image_item[\"b64\"], max_words=max_words))\n",
    "    return messages"
   ]
  },
  {
   "cell_type": "markdown",
   "metadata": {},
   "source": [
    "### Get completion"
   ]
  },
  {
   "cell_type": "code",
   "execution_count": 49,
   "metadata": {},
   "outputs": [
    {
     "name": "stdout",
     "output_type": "stream",
     "text": [
      "A triangular black lacquer table featuring intricate carvings with geometric patterns and openwork spandrels, supported by three legs connected by stretchers.\n",
      "---\n",
      "The desktop of a trapezoid shape with a red marble panel inlaid to the center, then with a drawer opening at the front center, overall of dark wood color.\n"
     ]
    }
   ],
   "source": [
    "references = [processed_images[0], processed_images[1], processed_images[2], processed_images[3], processed_images[4]]\n",
    "image_item = processed_images[5]\n",
    "messages = create_messages(references, image_item)\n",
    "response = get_completion(messages)\n",
    "\n",
    "print(response)\n",
    "print(\"---\")\n",
    "print(image_item[\"desc\"])"
   ]
  },
  {
   "cell_type": "code",
   "execution_count": 41,
   "metadata": {},
   "outputs": [
    {
     "name": "stdout",
     "output_type": "stream",
     "text": [
      "Carved as a plaque with an openwork design of dragons and ruyi clouds, worked from a pale green jade stone, surmounted by a red bead and adorned with a white jade bead necklace.\n",
      "---\n",
      "Overall likely heart shape, carved two Chi dragons on top and bottom gazing at each other around the center aperture, the stone of overall grayish-white color.\n"
     ]
    }
   ],
   "source": [
    "references = [processed_images[9], processed_images[12], processed_images[13]]\n",
    "image_item = processed_images[14]\n",
    "messages = create_messages(references, image_item, max_words=100)\n",
    "response = get_completion(messages, temperature=1, max_tokens=300)\n",
    "\n",
    "print(response)\n",
    "print(\"---\")\n",
    "print(image_item[\"desc\"])"
   ]
  },
  {
   "cell_type": "code",
   "execution_count": 45,
   "metadata": {},
   "outputs": [
    {
     "name": "stdout",
     "output_type": "stream",
     "text": [
      "Of cylindrical form, crafted from bamboo, featuring intricate carvings of a landscape scene with trees and mountains, with an inscription near the top.\n",
      "---\n",
      "Of slightly compressed cylindrical form, carved to the exterior with a figural scene and poetic phrases to the reverse.\n"
     ]
    }
   ],
   "source": [
    "references = [processed_images[17], processed_images[18]]\n",
    "image_item = processed_images[19]\n",
    "messages = create_messages(references, image_item)\n",
    "response = get_completion(messages, temperature=0.5)\n",
    "\n",
    "print(response)\n",
    "print(\"---\")\n",
    "print(image_item[\"desc\"])"
   ]
  },
  {
   "cell_type": "code",
   "execution_count": null,
   "metadata": {},
   "outputs": [],
   "source": []
  }
 ],
 "metadata": {
  "kernelspec": {
   "display_name": "Python 3",
   "language": "python",
   "name": "python3"
  },
  "language_info": {
   "codemirror_mode": {
    "name": "ipython",
    "version": 3
   },
   "file_extension": ".py",
   "mimetype": "text/x-python",
   "name": "python",
   "nbconvert_exporter": "python",
   "pygments_lexer": "ipython3",
   "version": "3.11.5"
  }
 },
 "nbformat": 4,
 "nbformat_minor": 2
}
